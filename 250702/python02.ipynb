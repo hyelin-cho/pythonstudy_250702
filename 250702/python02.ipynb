{
 "cells": [
  {
   "cell_type": "markdown",
   "id": "9b11ef88-7b27-4600-be9e-680fec3409ba",
   "metadata": {},
   "source": [
    "#### 파이썬 입.출력 예시\n",
    "\n",
    "- 사용자로부터 두 개의 숫자를 입력 받은 후 두 갱의 숫자를 더한 값을 출력하는 프로그램을 작성해보세요."
   ]
  },
  {
   "cell_type": "code",
   "execution_count": 2,
   "id": "36100c4b-a6f8-404f-92f2-0d82664768d6",
   "metadata": {},
   "outputs": [
    {
     "name": "stdin",
     "output_type": "stream",
     "text": [
      " 7\n",
      " 3\n"
     ]
    },
    {
     "name": "stdout",
     "output_type": "stream",
     "text": [
      "10\n"
     ]
    }
   ],
   "source": [
    "num1 = int(input())\n",
    "num2 = int(input())\n",
    "\n",
    "print(num1 + num2)"
   ]
  }
 ],
 "metadata": {
  "kernelspec": {
   "display_name": "Python [conda env:base] *",
   "language": "python",
   "name": "conda-base-py"
  },
  "language_info": {
   "codemirror_mode": {
    "name": "ipython",
    "version": 3
   },
   "file_extension": ".py",
   "mimetype": "text/x-python",
   "name": "python",
   "nbconvert_exporter": "python",
   "pygments_lexer": "ipython3",
   "version": "3.13.5"
  }
 },
 "nbformat": 4,
 "nbformat_minor": 5
}
